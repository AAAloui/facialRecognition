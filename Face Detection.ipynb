{
 "cells": [
  {
   "cell_type": "markdown",
   "metadata": {},
   "source": [
    "# SetUp"
   ]
  },
  {
   "cell_type": "code",
   "execution_count": 1,
   "metadata": {},
   "outputs": [],
   "source": [
    "import numpy as np\n",
    "import cv2 as cv\n",
    "import sys\n",
    "from tkinter import *\n",
    "from tkinter import filedialog as fd\n",
    "import urllib.request as urllib2 \n",
    "\n",
    "face_cascade = cv.CascadeClassifier('/home/almostapha/anaconda3/share/OpenCV/haarcascades/haarcascade_frontalface_default.xml')\n",
    "eye_cascade = cv.CascadeClassifier('/home/almostapha/anaconda3/share/OpenCV/haarcascades/haarcascade_eye.xml')"
   ]
  },
  {
   "cell_type": "code",
   "execution_count": 2,
   "metadata": {},
   "outputs": [],
   "source": [
    "def videoDetect():\n",
    "    video_capture = cv.VideoCapture(0)\n",
    "\n",
    "    while True:\n",
    "        # Capture frame-by-frame\n",
    "        ret, frame = video_capture.read()\n",
    "        gray = cv.cvtColor(frame, cv.COLOR_BGR2GRAY)\n",
    "        faces = face_cascade.detectMultiScale(gray, 1.3, 5)\n",
    "        for (x,y,w,h) in faces:\n",
    "            cv.rectangle(frame,(x,y),(x+w,y+h),(255,255,255),2)\n",
    "            roi_gray = gray[y:y+h, x:x+w]\n",
    "            roi_color = frame[y:y+h, x:x+w]\n",
    "    \n",
    "        cv.imshow('Video', frame)\n",
    "    \n",
    "        if cv.waitKey(1) & 0xFF == ord('q'):\n",
    "            break\n",
    "    \n",
    "    # When everything is done, release the capture\n",
    "    video_capture.release()\n",
    "    cv.destroyAllWindows()\n",
    "    return"
   ]
  },
  {
   "cell_type": "code",
   "execution_count": 3,
   "metadata": {},
   "outputs": [],
   "source": [
    "def detectAndShow(image):\n",
    "    img = cv.resize(image, (0,0), fx=1, fy=1) \n",
    "    gray = cv.cvtColor(img, cv.COLOR_BGR2GRAY)\n",
    "    faces = face_cascade.detectMultiScale(gray, 1.3, 5)\n",
    "    for (x,y,w,h) in faces:\n",
    "        cv.rectangle(img,(x,y),(x+w,y+h),(255,255,255),2)\n",
    "        roi_gray = gray[y:y+h, x:x+w]\n",
    "        roi_color = img[y:y+h, x:x+w]\n",
    "        eyes = eye_cascade.detectMultiScale(roi_gray)\n",
    "        for (ex,ey,ew,eh) in eyes:\n",
    "            cv.rectangle(roi_color,(ex,ey),(ex+ew,ey+eh),(0,255,0),2)\n",
    "    cv.imshow('image',img)\n",
    "    cv.imwrite('resultat.jpg',img)\n",
    "    cv.waitKey(5000)\n",
    "    #cv.destroyAllWindows()\n",
    "    if cv.waitKey(): cv.destroyAllWindows()\n",
    "    return faces;"
   ]
  },
  {
   "cell_type": "code",
   "execution_count": 4,
   "metadata": {},
   "outputs": [],
   "source": [
    "def howMany(faces):\n",
    "    if (type(faces) is np.ndarray):\n",
    "        if (faces.shape[0]==1):\n",
    "            message = 'un seul visage détecté'\n",
    "        else:\n",
    "            message = (\"%i visages détectés\" %(faces.shape[0]))\n",
    "    else:\n",
    "        message ='Aucun visage n\\'a été détecté'\n",
    "        \n",
    "    print(message)\n",
    "    "
   ]
  },
  {
   "cell_type": "code",
   "execution_count": 5,
   "metadata": {},
   "outputs": [],
   "source": [
    "def detectFromDisk():\n",
    "    root = Tk()\n",
    "    root.withdraw()\n",
    "    filename = fd.askopenfilename()\n",
    "    print(filename)\n",
    "    image = cv.imread(filename)\n",
    "    faces=detectAndShow(image)\n",
    "    howMany(faces)\n",
    "    return"
   ]
  },
  {
   "cell_type": "code",
   "execution_count": 6,
   "metadata": {},
   "outputs": [],
   "source": [
    "def detectFromURL(url):\n",
    "    #url =\"https://s3.amazonaws.com/kairos-media/team/Ben_Virdee-Chapman.jpeg\"\n",
    "    resp = urllib2.urlopen(url)\n",
    "    image = np.asarray(bytearray(resp.read()), dtype=\"uint8\")\n",
    "    image = cv.imdecode(image, cv.IMREAD_COLOR)\n",
    "    faces=detectAndShow(importage)\n",
    "    howMany(faces)\n",
    "    return"
   ]
  },
  {
   "cell_type": "markdown",
   "metadata": {},
   "source": [
    "## Let's test"
   ]
  },
  {
   "cell_type": "code",
   "execution_count": 7,
   "metadata": {},
   "outputs": [
    {
     "name": "stdout",
     "output_type": "stream",
     "text": [
      "/home/almostapha/Desktop/FaceDetection/facialRecognition-master/monalisa.jpeg\n",
      "un seul visage détecté\n"
     ]
    }
   ],
   "source": [
    "detectFromDisk()"
   ]
  },
  {
   "cell_type": "code",
   "execution_count": 8,
   "metadata": {},
   "outputs": [
    {
     "name": "stdout",
     "output_type": "stream",
     "text": [
      "un seul visage détecté\n"
     ]
    }
   ],
   "source": [
    "detectFromURL('data:image/jpeg;base64,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')\n"
   ]
  },
  {
   "cell_type": "code",
   "execution_count": 9,
   "metadata": {},
   "outputs": [],
   "source": [
    "videoDetect()"
   ]
  },
  {
   "cell_type": "code",
   "execution_count": null,
   "metadata": {},
   "outputs": [],
   "source": []
  }
 ],
 "metadata": {
  "kernelspec": {
   "display_name": "Python 3",
   "language": "python",
   "name": "python3"
  },
  "language_info": {
   "codemirror_mode": {
    "name": "ipython",
    "version": 3
   },
   "file_extension": ".py",
   "mimetype": "text/x-python",
   "name": "python",
   "nbconvert_exporter": "python",
   "pygments_lexer": "ipython3",
   "version": "3.6.5"
  }
 },
 "nbformat": 4,
 "nbformat_minor": 2
}
